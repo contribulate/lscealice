{
 "cells": [
  {
   "cell_type": "code",
   "execution_count": 35,
   "id": "30c4afcb",
   "metadata": {},
   "outputs": [],
   "source": [
    "import pandas as pd\n",
    "import numpy as np\n",
    "import datetime\n",
    "import matplotlib.pyplot as plt\n",
    "import pickle"
   ]
  },
  {
   "cell_type": "code",
   "execution_count": 36,
   "id": "49603dad",
   "metadata": {},
   "outputs": [],
   "source": [
    "%run ./load_code.ipynb"
   ]
  },
  {
   "cell_type": "code",
   "execution_count": null,
   "id": "63c0318b",
   "metadata": {},
   "outputs": [],
   "source": []
  },
  {
   "cell_type": "code",
   "execution_count": 37,
   "id": "e4dcb655",
   "metadata": {},
   "outputs": [],
   "source": [
    "new_dic = {'cores':{},'tiepoints':{},'metadata':{}}"
   ]
  },
  {
   "cell_type": "code",
   "execution_count": 38,
   "id": "863f8dbb",
   "metadata": {},
   "outputs": [],
   "source": [
    "## new version: scan entire folder\n",
    "\n",
    "datafolder = './data/coredata/'\n",
    "p = Path(datafolder)  \n",
    "files = sorted(list(p.glob(f'*.xlsx')))\n",
    "for datafile in files:\n",
    "    xls = pd.ExcelFile(datafile)\n",
    "    core_names = xls.sheet_names[:]\n",
    "    for i,lab in enumerate(core_names):\n",
    "        df = pd.read_excel(datafile,sheet_name=i,skiprows = 0, header = None).replace('n.a.', np.nan)\n",
    "        \n",
    "        ## todo later: adjust the code for then sample_date is not defined\n",
    "        #sample_date = datetime.date(2000,1,1) # just a random date for now\n",
    "        \n",
    "        core_depth = df.to_numpy()[1:,0].astype(None)\n",
    "        \n",
    "        if not lab in new_dic['tiepoints'].keys():\n",
    "            #initialize tiepoints with empty lists\n",
    "            new_dic['tiepoints'][lab] = []\n",
    "            \n",
    "        if not lab in new_dic['cores'].keys():\n",
    "            new_dic['cores'][lab] = {}      \n",
    "        \n",
    "        for i in range(1,len(df.T)):\n",
    "            chem_name = df.to_numpy()[0,i]\n",
    "            chem_profile = df.to_numpy()[1:,i].astype(None)\n",
    "            \n",
    "            # for Agnese in july 2024: restrict to the first 18 meters\n",
    "            ind = (core_depth<18)\n",
    "            \n",
    "            new_dic['cores'][lab][chem_name] = {}\n",
    "            new_dic['cores'][lab][chem_name]['data'] = chem_profile[ind].copy()\n",
    "            new_dic['cores'][lab][chem_name]['depth'] = core_depth[ind].copy()"
   ]
  },
  {
   "cell_type": "code",
   "execution_count": 39,
   "id": "7ab5648c",
   "metadata": {},
   "outputs": [],
   "source": [
    "datafolder = './data/metadata/'\n",
    "p = Path(datafolder)  \n",
    "files = sorted(list(p.glob(f'*.xlsx')))\n",
    "for datafile in files:\n",
    "    xls = pd.ExcelFile(datafile)\n",
    "    core_names = xls.sheet_names[:]\n",
    "    for i,lab in enumerate(core_names):\n",
    "        df = pd.read_excel(datafile,sheet_name=i,skiprows = 0, header = None).replace('n.a.', np.nan)\n",
    "        if not lab in new_dic['metadata'].keys():\n",
    "            #initialize tiepoints with empty lists\n",
    "            new_dic['metadata'][lab] = {}\n",
    "        for i in range(0,len(df.T)):\n",
    "            #metadata_name = df.to_numpy()[0,i]\n",
    "            metadata_name = df.iloc[0,i]\n",
    "\n",
    "            #metadata_value = df.to_numpy()[1,i]\n",
    "            metadata_value = df.iloc[1,i]\n",
    "\n",
    "            new_dic['metadata'][lab][metadata_name] = metadata_value"
   ]
  },
  {
   "cell_type": "code",
   "execution_count": 40,
   "id": "de8746fa",
   "metadata": {},
   "outputs": [],
   "source": [
    "ref_lab = 'IGE48'"
   ]
  },
  {
   "cell_type": "code",
   "execution_count": 41,
   "id": "a4236db1",
   "metadata": {},
   "outputs": [],
   "source": [
    "new_dic['cores']['REF'] = new_dic['cores'][ref_lab].copy()\n",
    "new_dic['metadata']['REF'] = new_dic['metadata'][ref_lab].copy()"
   ]
  },
  {
   "cell_type": "code",
   "execution_count": 42,
   "id": "b82cede0",
   "metadata": {},
   "outputs": [],
   "source": [
    "with open('aligv2_agnese1.pkl','wb') as fp:\n",
    "    pickle.dump(new_dic,fp)"
   ]
  },
  {
   "cell_type": "markdown",
   "id": "cfe195b7",
   "metadata": {},
   "source": [
    "## new completed data_file\n",
    "datafile = './data/agnese_chem_all.xlsx'"
   ]
  },
  {
   "cell_type": "markdown",
   "id": "10723dc9",
   "metadata": {},
   "source": [
    "# we've compiled all of Joel's stuff in a single file\n",
    "xls = pd.ExcelFile(datafile)\n",
    "\n",
    "# each sheet corresponds to a pit\n",
    "\n",
    "core_names = xls.sheet_names[:]"
   ]
  },
  {
   "cell_type": "markdown",
   "id": "c7881a44",
   "metadata": {},
   "source": [
    "for i,lab in enumerate(core_names):\n",
    "    \n",
    "    df = pd.read_excel(datafile,sheet_name=i,skiprows = 0, header = None).replace('n.a.', np.nan)\n",
    "    \n",
    "    #sample_date_timestamp = df.iloc[0,3]\n",
    "    #sample_date = sample_date_timestamp.date()\n",
    "    sample_date = datetime.date(2000,1,1) # just a random date for now\n",
    "    \n",
    "    core_depth = df.to_numpy()[1:,0].astype(None)\n",
    "    \n",
    "    #print(core_depth)\n",
    "    \n",
    "    new_dic['cores'][lab] = {}\n",
    "    \n",
    "    new_dic['cores'][lab]['time'] = sample_date\n",
    "    \n",
    "    new_dic['cores'][lab]['depth'] = core_depth.copy()\n",
    "    new_dic['cores'][lab]['data'] = {}\n",
    "    \n",
    "    # initialize tiepoints with empty lists\n",
    "    \n",
    "    new_dic['tiepoints'][lab] = {'xp1':[],'xp2':[]}\n",
    "    \n",
    "    for i in range(1,len(df.T)):\n",
    "        chem_name = df.to_numpy()[0,i]\n",
    "        chem_profile = df.to_numpy()[1:,i].astype(None)\n",
    "        new_dic['cores'][lab]['data'][chem_name] = chem_profile.copy()"
   ]
  },
  {
   "cell_type": "markdown",
   "id": "c2b296a8",
   "metadata": {
    "scrolled": false
   },
   "source": [
    "fig,ax = plt.subplots(figsize=(10,8))\n",
    "for key,value in new_dic['PROFILES'].items():\n",
    "    plt.plot(value['depth'],value['chemistry']['SO4'],label=key)\n",
    "plt.legend()\n",
    "\n",
    "plt.plot(new_dic['REF']['depth'],new_dic['REF']['chemistry']['SO4'],label=key,color='red',lw=5)"
   ]
  },
  {
   "cell_type": "markdown",
   "id": "0e19ca81",
   "metadata": {},
   "source": [
    "# REUSE POINTS FROM OLD DATASTRUCTURE ALIGNMENT"
   ]
  },
  {
   "cell_type": "code",
   "execution_count": 55,
   "id": "4a123bbe",
   "metadata": {},
   "outputs": [],
   "source": [
    "old_dic = load_dic_file('alig_agnese5A.pkl') # insert name of old alignment file here"
   ]
  },
  {
   "cell_type": "code",
   "execution_count": 56,
   "id": "5f5dd039",
   "metadata": {},
   "outputs": [],
   "source": [
    "new_tiepoints = {}"
   ]
  },
  {
   "cell_type": "code",
   "execution_count": 57,
   "id": "b8af1008",
   "metadata": {},
   "outputs": [],
   "source": [
    "for key in ['LSCE18', 'VE18', 'VE48', 'IGE48']:\n",
    "    new_tiepoints[key] = []\n",
    "    xp1 = old_dic[key]['xp1']\n",
    "    xp2 = old_dic[key]['xp2']\n",
    "    \n",
    "    for i in range(len(xp2)):\n",
    "        new_tp = {'species' : None,\n",
    "                 'ref_depth' : xp2[i],\n",
    "                 'profile_depth' : xp1[i]}\n",
    "        new_tiepoints[key].append(new_tp)"
   ]
  },
  {
   "cell_type": "code",
   "execution_count": 58,
   "id": "ba0c1434",
   "metadata": {},
   "outputs": [],
   "source": [
    "new_dic2 = new_dic.copy()"
   ]
  },
  {
   "cell_type": "code",
   "execution_count": 60,
   "id": "23b02424",
   "metadata": {},
   "outputs": [],
   "source": [
    "new_dic2['tiepoints'] = new_tiepoints.copy()"
   ]
  },
  {
   "cell_type": "code",
   "execution_count": 61,
   "id": "d8b51033",
   "metadata": {},
   "outputs": [],
   "source": [
    "write_dic_file(new_dic2,'aligv2_agnese5A.pkl')"
   ]
  },
  {
   "cell_type": "markdown",
   "id": "bf1b9683",
   "metadata": {},
   "source": [
    "# REUSE POINTS FROM PREVIOUS ALIGNMENT:"
   ]
  },
  {
   "cell_type": "code",
   "execution_count": null,
   "id": "b72e49de",
   "metadata": {},
   "outputs": [],
   "source": [
    "#xp1_dic,xp2_dic = load_marked_points('#########.pkl') # insert name of old alignment file here"
   ]
  },
  {
   "cell_type": "code",
   "execution_count": null,
   "id": "69eb0fe2",
   "metadata": {},
   "outputs": [],
   "source": []
  },
  {
   "cell_type": "code",
   "execution_count": null,
   "id": "837fe358",
   "metadata": {},
   "outputs": [],
   "source": [
    "#for key in xp1_dic.keys():\n",
    "#    new_dic['tiepoints'][key] = {}\n",
    "#    new_dic['tiepoints'][key]['xp1'] = xp1_dic[key]\n",
    "#    new_dic['tiepoints'][key]['xp2'] = xp2_dic[key]"
   ]
  },
  {
   "cell_type": "code",
   "execution_count": null,
   "id": "fc1473e2",
   "metadata": {},
   "outputs": [],
   "source": [
    "#with open('alig_agnese4.pkl','wb') as fp:\n",
    "#    pickle.dump(new_dic,fp)"
   ]
  },
  {
   "cell_type": "code",
   "execution_count": null,
   "id": "4fda4cb5",
   "metadata": {},
   "outputs": [],
   "source": []
  },
  {
   "cell_type": "code",
   "execution_count": null,
   "id": "4ca054b6",
   "metadata": {},
   "outputs": [],
   "source": []
  }
 ],
 "metadata": {
  "kernelspec": {
   "display_name": "Python 3 (ipykernel)",
   "language": "python",
   "name": "python3"
  },
  "language_info": {
   "codemirror_mode": {
    "name": "ipython",
    "version": 3
   },
   "file_extension": ".py",
   "mimetype": "text/x-python",
   "name": "python",
   "nbconvert_exporter": "python",
   "pygments_lexer": "ipython3",
   "version": "3.10.12"
  }
 },
 "nbformat": 4,
 "nbformat_minor": 5
}
